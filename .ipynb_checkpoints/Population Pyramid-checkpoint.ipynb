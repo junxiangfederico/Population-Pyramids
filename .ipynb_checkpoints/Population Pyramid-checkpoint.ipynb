{
 "cells": [
  {
   "cell_type": "code",
   "execution_count": 5,
   "metadata": {},
   "outputs": [
    {
     "data": {
      "text/html": [
       "<div>\n",
       "<style scoped>\n",
       "    .dataframe tbody tr th:only-of-type {\n",
       "        vertical-align: middle;\n",
       "    }\n",
       "\n",
       "    .dataframe tbody tr th {\n",
       "        vertical-align: top;\n",
       "    }\n",
       "\n",
       "    .dataframe thead th {\n",
       "        text-align: right;\n",
       "    }\n",
       "</style>\n",
       "<table border=\"1\" class=\"dataframe\">\n",
       "  <thead>\n",
       "    <tr style=\"text-align: right;\">\n",
       "      <th></th>\n",
       "      <th>Age</th>\n",
       "      <th>M</th>\n",
       "      <th>F</th>\n",
       "    </tr>\n",
       "  </thead>\n",
       "  <tbody>\n",
       "    <tr>\n",
       "      <th>0</th>\n",
       "      <td>0-4</td>\n",
       "      <td>1197289</td>\n",
       "      <td>1127405</td>\n",
       "    </tr>\n",
       "    <tr>\n",
       "      <th>1</th>\n",
       "      <td>5-9</td>\n",
       "      <td>1374731</td>\n",
       "      <td>1295570</td>\n",
       "    </tr>\n",
       "    <tr>\n",
       "      <th>2</th>\n",
       "      <td>10-14</td>\n",
       "      <td>1470174</td>\n",
       "      <td>1387183</td>\n",
       "    </tr>\n",
       "    <tr>\n",
       "      <th>3</th>\n",
       "      <td>15-19</td>\n",
       "      <td>1484455</td>\n",
       "      <td>1391636</td>\n",
       "    </tr>\n",
       "    <tr>\n",
       "      <th>4</th>\n",
       "      <td>20-24</td>\n",
       "      <td>1526577</td>\n",
       "      <td>1415929</td>\n",
       "    </tr>\n",
       "    <tr>\n",
       "      <th>5</th>\n",
       "      <td>25-29</td>\n",
       "      <td>1625230</td>\n",
       "      <td>1535700</td>\n",
       "    </tr>\n",
       "    <tr>\n",
       "      <th>6</th>\n",
       "      <td>30-34</td>\n",
       "      <td>1702976</td>\n",
       "      <td>1662536</td>\n",
       "    </tr>\n",
       "    <tr>\n",
       "      <th>7</th>\n",
       "      <td>35-39</td>\n",
       "      <td>1824273</td>\n",
       "      <td>1808649</td>\n",
       "    </tr>\n",
       "    <tr>\n",
       "      <th>8</th>\n",
       "      <td>40-44</td>\n",
       "      <td>2092329</td>\n",
       "      <td>2096655</td>\n",
       "    </tr>\n",
       "    <tr>\n",
       "      <th>9</th>\n",
       "      <td>45-49</td>\n",
       "      <td>2401070</td>\n",
       "      <td>2431950</td>\n",
       "    </tr>\n",
       "  </tbody>\n",
       "</table>\n",
       "</div>"
      ],
      "text/plain": [
       "     Age        M        F\n",
       "0    0-4  1197289  1127405\n",
       "1    5-9  1374731  1295570\n",
       "2  10-14  1470174  1387183\n",
       "3  15-19  1484455  1391636\n",
       "4  20-24  1526577  1415929\n",
       "5  25-29  1625230  1535700\n",
       "6  30-34  1702976  1662536\n",
       "7  35-39  1824273  1808649\n",
       "8  40-44  2092329  2096655\n",
       "9  45-49  2401070  2431950"
      ]
     },
     "execution_count": 5,
     "metadata": {},
     "output_type": "execute_result"
    }
   ],
   "source": [
    "import pandas as pd\n",
    "import matplotlib.pyplot as plt\n",
    "import numpy as np\n",
    "import seaborn as sns\n",
    "dff = pd.read_csv(\"population/italy-2020.csv\")\n",
    "dff.head(10)"
   ]
  },
  {
   "cell_type": "code",
   "execution_count": 6,
   "metadata": {},
   "outputs": [],
   "source": [
    "males = dff.loc[:, 'Age':'M']\n",
    "\n",
    "females = ['Age', 'F']\n",
    "females = pd.DataFrame(dff, columns=females)\n",
    "females['F'] = females['F'].apply(lambda x: x * -1)   # Utilizziamo un \n",
    "                                                      # lambda per invertire \n",
    "                                                      # i valori di females\n",
    "\n",
    "females = females['F'].values.tolist()\n",
    "males = males['M'].values.tolist()"
   ]
  },
  {
   "cell_type": "code",
   "execution_count": 14,
   "metadata": {},
   "outputs": [
    {
     "data": {
      "image/png": "[encoded data removed]",
      "text/plain": [
       "<Figure size 432x288 with 1 Axes>"
      ]
     },
     "metadata": {
      "needs_background": "light"
     },
     "output_type": "display_data"
    }
   ],
   "source": [
    "import pandas as pd\n",
    "import matplotlib.pyplot as plt\n",
    "import numpy as np\n",
    "import seaborn as sns\n",
    "\n",
    "df = pd.DataFrame({'Age': ['0-4','5-9','10-14','15-19','20-24','25-29','30-34','35-39','40-44',\n",
    "                           '45-49','50-54','55-59','60-64','65-69','70-74','75-79','80-84','85-89',\n",
    "                           '90-94','95-99','100+'], \n",
    "                    'Males': males, \n",
    "                    'Females': females})\n",
    "AgeClass = ['100+','95-99','90-94','85-89','80-84','75-79','70-74','65-69','60-64','55-59',\n",
    "            '50-54','45-49','40-44','35-39','30-34','25-29','20-24','15-19','10-14','5-9','0-4']\n",
    "\n",
    "bar_plot = sns.barplot(x='Males', y='Age', data=df, order=AgeClass, lw = 0)\n",
    "bar_plot = sns.barplot(x='Females', y='Age', data=df, order=AgeClass, lw = 0)\n",
    "\n",
    "bar_plot.set(xlabel=\"Population (hundreds of millions)\", ylabel=\"Age-Group\", title = \"Population Pyramid\")\n",
    "\n",
    "fig = bar_plot.get_figure()\n",
    "bar_plot.figure.savefig(\"output.png\")"
   ]
  },
  {
   "cell_type": "code",
   "execution_count": 43,
   "metadata": {},
   "outputs": [
    {
     "data": {
      "image/png": "[encoded data removed]",
      "text/plain": [
       "<Figure size 432x288 with 1 Axes>"
      ]
     },
     "metadata": {
      "needs_background": "light"
     },
     "output_type": "display_data"
    }
   ],
   "source": [
    "import pandas as pd\n",
    "import matplotlib.pyplot as plt\n",
    "import numpy as np\n",
    "import seaborn as sns\n",
    "\n",
    "\n",
    "\n",
    "images = []\n",
    "for i in range(2000, 2021):\n",
    "    location = \"population/italy-\" + str(i) +\".csv\"\n",
    "    dff = pd.read_csv(location)\n",
    "    males = dff.loc[:, 'Age':'M']\n",
    "\n",
    "    females = ['Age', 'F']\n",
    "    females = pd.DataFrame(dff, columns=females)\n",
    "    females['F'] = females['F'].apply(lambda x: x * -1)   # Utilizziamo un \n",
    "                                                      # lambda per invertire \n",
    "                                                      # i valori di females\n",
    "\n",
    "    females = females['F'].values.tolist()\n",
    "    males = males['M'].values.tolist()\n",
    "    df = pd.DataFrame({'Age': ['0-4','5-9','10-14','15-19','20-24','25-29','30-34','35-39','40-44',\n",
    "                           '45-49','50-54','55-59','60-64','65-69','70-74','75-79','80-84','85-89',\n",
    "                           '90-94','95-99','100+'], \n",
    "                    'Males': males, \n",
    "                    'Females': females})\n",
    "    AgeClass = ['100+','95-99','90-94','85-89','80-84','75-79','70-74','65-69','60-64','55-59',\n",
    "            '50-54','45-49','40-44','35-39','30-34','25-29','20-24','15-19','10-14','5-9','0-4']\n",
    "\n",
    "    bar_plot = sns.barplot(x='Males', y='Age', data=df, order=AgeClass, lw = 0)\n",
    "    bar_plot = sns.barplot(x='Females', y='Age', data=df, order=AgeClass, lw = 0)\n",
    "\n",
    "    bar_plot.set(xlabel=\"Population (millions)\", ylabel=\"Age-Group\", title = \"Population Pyramid: \" + str(i))\n",
    "\n",
    "    fig = bar_plot.get_figure()\n",
    "    output = \"output\" + str(i)\n",
    "    bar_plot.figure.savefig(\"italy/\" + output)\n",
    "import os\n",
    "import imageio\n",
    "\n",
    "png_dir = 'italy/'\n",
    "images = []\n",
    "for file_name in sorted(os.listdir(png_dir)):\n",
    "    if file_name.endswith('.png'):\n",
    "        file_path = os.path.join(png_dir, file_name)\n",
    "        images.append(imageio.imread(file_path))\n",
    "imageio.mimsave('italyMovie.gif', images)"
   ]
  },
  {
   "cell_type": "code",
   "execution_count": 46,
   "metadata": {},
   "outputs": [
    {
     "name": "stdout",
     "output_type": "stream",
     "text": [
      "Done\n"
     ]
    },
    {
     "data": {
      "image/png": "[encoded data removed]",
      "text/plain": [
       "<Figure size 432x288 with 1 Axes>"
      ]
     },
     "metadata": {
      "needs_background": "light"
     },
     "output_type": "display_data"
    }
   ],
   "source": [
    "import pandas as pd\n",
    "import matplotlib.pyplot as plt\n",
    "import numpy as np\n",
    "import seaborn as sns\n",
    "\n",
    "\n",
    "\n",
    "images = []\n",
    "for i in range(2000, 2021):\n",
    "    location = \"population/China-\" + str(i) +\".csv\"\n",
    "    dff = pd.read_csv(location)\n",
    "    males = dff.loc[:, 'Age':'M']\n",
    "\n",
    "    females = ['Age', 'F']\n",
    "    females = pd.DataFrame(dff, columns=females)\n",
    "    females['F'] = females['F'].apply(lambda x: x * -1)   # Utilizziamo un \n",
    "                                                      # lambda per invertire \n",
    "                                                      # i valori di females\n",
    "\n",
    "    females = females['F'].values.tolist()\n",
    "    males = males['M'].values.tolist()\n",
    "    df = pd.DataFrame({'Age': ['0-4','5-9','10-14','15-19','20-24','25-29','30-34','35-39','40-44',\n",
    "                           '45-49','50-54','55-59','60-64','65-69','70-74','75-79','80-84','85-89',\n",
    "                           '90-94','95-99','100+'], \n",
    "                    'Males': males, \n",
    "                    'Females': females})\n",
    "    AgeClass = ['100+','95-99','90-94','85-89','80-84','75-79','70-74','65-69','60-64','55-59',\n",
    "            '50-54','45-49','40-44','35-39','30-34','25-29','20-24','15-19','10-14','5-9','0-4']\n",
    "\n",
    "    bar_plot = sns.barplot(x='Males', y='Age', data=df, order=AgeClass, lw = 0)\n",
    "    bar_plot = sns.barplot(x='Females', y='Age', data=df, order=AgeClass, lw = 0)\n",
    "\n",
    "    bar_plot.set(xlabel=\"Population (tens of millions)\", ylabel=\"Age-Group\", title = \"Population Pyramid: \" + str(i))\n",
    "    #fig = bar_plot.get_figure()\n",
    "    output = \"output\" + str(i)\n",
    "    bar_plot.figure.savefig(\"china/\" + output)\n",
    "import os\n",
    "import imageio\n",
    "\n",
    "png_dir = 'china/'\n",
    "images = []\n",
    "for file_name in sorted(os.listdir(png_dir)):\n",
    "    if file_name.endswith('.png'):\n",
    "        file_path = os.path.join(png_dir, file_name)\n",
    "        images.append(imageio.imread(file_path))\n",
    "imageio.mimsave('chinaMovie.gif', images)\n",
    "print(\"Done\")"
   ]
  },
  {
   "cell_type": "code",
   "execution_count": null,
   "metadata": {},
   "outputs": [],
   "source": []
  }
 ],
 "metadata": {
  "kernelspec": {
   "display_name": "Python 3",
   "language": "python",
   "name": "python3"
  },
  "language_info": {
   "codemirror_mode": {
    "name": "ipython",
    "version": 3
   },
   "file_extension": ".py",
   "mimetype": "text/x-python",
   "name": "python",
   "nbconvert_exporter": "python",
   "pygments_lexer": "ipython3",
   "version": "3.8.5"
  }
 },
 "nbformat": 4,
 "nbformat_minor": 4
}
